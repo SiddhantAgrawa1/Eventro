{
 "cells": [
  {
   "cell_type": "code",
   "execution_count": 2,
   "id": "8133a300",
   "metadata": {},
   "outputs": [],
   "source": [
    "import random\n",
    "import pandas as pd\n",
    "\n",
    "# define some example parameters\n",
    "n_users = 100\n",
    "n_events = 200\n",
    "min_rating = 1\n",
    "max_rating = 5\n",
    "\n",
    "# generate some random user IDs\n",
    "user_ids = list(range(1, n_users + 1))\n",
    "\n",
    "# generate some random event IDs\n",
    "event_ids = list(range(1, n_events + 1))\n",
    "\n",
    "# generate some random ratings for each user and event combination\n",
    "user_event_ratings = []\n",
    "for user_id in user_ids:\n",
    "    for event_id in event_ids:\n",
    "        event_rating = random.randint(min_rating, max_rating)\n",
    "        user_event_ratings.append((user_id, event_id, event_rating))\n",
    "\n",
    "# convert the user event ratings to a pandas DataFrame\n",
    "user_events_df = pd.DataFrame(user_event_ratings, columns=['user_id', 'event_id', 'event_rating'])\n",
    "\n",
    "# save the data to a CSV file\n",
    "user_events_df.to_csv('user_events.csv', index=False)\n"
   ]
  },
  {
   "cell_type": "code",
   "execution_count": null,
   "id": "7c63c2aa",
   "metadata": {},
   "outputs": [],
   "source": []
  }
 ],
 "metadata": {
  "kernelspec": {
   "display_name": "Python 3 (ipykernel)",
   "language": "python",
   "name": "python3"
  },
  "language_info": {
   "codemirror_mode": {
    "name": "ipython",
    "version": 3
   },
   "file_extension": ".py",
   "mimetype": "text/x-python",
   "name": "python",
   "nbconvert_exporter": "python",
   "pygments_lexer": "ipython3",
   "version": "3.8.10"
  }
 },
 "nbformat": 4,
 "nbformat_minor": 5
}
