{
 "cells": [
  {
   "cell_type": "code",
   "execution_count": 70,
   "id": "6057bbd6",
   "metadata": {},
   "outputs": [],
   "source": [
    "# import required libraries\n",
    "import pandas as pd\n",
    "import numpy as np\n",
    "from sklearn.model_selection import train_test_split\n",
    "from sklearn.metrics import mean_squared_error\n",
    "from math import sqrt\n",
    "import scipy.sparse as sp\n",
    "from scipy.sparse.linalg import svds\n",
    "from sklearn.metrics.pairwise import cosine_similarity\n",
    "from sklearn.feature_extraction.text import CountVectorizer\n",
    "\n",
    "events_df = pd.read_csv('events_data.csv')\n",
    "user_df = pd.read_csv('user_events.csv')"
   ]
  },
  {
   "cell_type": "code",
   "execution_count": 71,
   "id": "cb01d0f2",
   "metadata": {},
   "outputs": [
    {
     "data": {
      "text/html": [
       "<div>\n",
       "<style scoped>\n",
       "    .dataframe tbody tr th:only-of-type {\n",
       "        vertical-align: middle;\n",
       "    }\n",
       "\n",
       "    .dataframe tbody tr th {\n",
       "        vertical-align: top;\n",
       "    }\n",
       "\n",
       "    .dataframe thead th {\n",
       "        text-align: right;\n",
       "    }\n",
       "</style>\n",
       "<table border=\"1\" class=\"dataframe\">\n",
       "  <thead>\n",
       "    <tr style=\"text-align: right;\">\n",
       "      <th></th>\n",
       "      <th>event_id</th>\n",
       "      <th>category</th>\n",
       "      <th>event_name</th>\n",
       "      <th>event_description</th>\n",
       "      <th>event_date</th>\n",
       "      <th>event_time</th>\n",
       "      <th>venue</th>\n",
       "      <th>city</th>\n",
       "      <th>state</th>\n",
       "      <th>country</th>\n",
       "    </tr>\n",
       "  </thead>\n",
       "  <tbody>\n",
       "    <tr>\n",
       "      <th>0</th>\n",
       "      <td>1</td>\n",
       "      <td>Sports</td>\n",
       "      <td>Football Match</td>\n",
       "      <td>Watch two of the best football teams in the wo...</td>\n",
       "      <td>2023-06-10</td>\n",
       "      <td>19:00:00</td>\n",
       "      <td>Wankhede Stadium</td>\n",
       "      <td>Mumbai</td>\n",
       "      <td>Maharashtra</td>\n",
       "      <td>India</td>\n",
       "    </tr>\n",
       "    <tr>\n",
       "      <th>1</th>\n",
       "      <td>2</td>\n",
       "      <td>Music</td>\n",
       "      <td>EDM Music Festival</td>\n",
       "      <td>Dance to the beats of the biggest EDM artists ...</td>\n",
       "      <td>2023-06-15</td>\n",
       "      <td>15:00:00</td>\n",
       "      <td>Bangalore Palace Grounds</td>\n",
       "      <td>Bengaluru</td>\n",
       "      <td>Karnataka</td>\n",
       "      <td>India</td>\n",
       "    </tr>\n",
       "    <tr>\n",
       "      <th>2</th>\n",
       "      <td>3</td>\n",
       "      <td>Food and Drink</td>\n",
       "      <td>Wine and Cheese Tasting</td>\n",
       "      <td>Sample a variety of fine wines and cheeses</td>\n",
       "      <td>2023-06-25</td>\n",
       "      <td>18:00:00</td>\n",
       "      <td>Taj Mahal Palace Hotel</td>\n",
       "      <td>Mumbai</td>\n",
       "      <td>Maharashtra</td>\n",
       "      <td>India</td>\n",
       "    </tr>\n",
       "    <tr>\n",
       "      <th>3</th>\n",
       "      <td>4</td>\n",
       "      <td>Technology</td>\n",
       "      <td>Artificial Intelligence Summit</td>\n",
       "      <td>Explore the latest developments in AI and mach...</td>\n",
       "      <td>2023-07-05</td>\n",
       "      <td>10:00:00</td>\n",
       "      <td>IIT Delhi</td>\n",
       "      <td>New Delhi</td>\n",
       "      <td>Delhi</td>\n",
       "      <td>India</td>\n",
       "    </tr>\n",
       "    <tr>\n",
       "      <th>4</th>\n",
       "      <td>5</td>\n",
       "      <td>Arts and Culture</td>\n",
       "      <td>Photography Exhibition</td>\n",
       "      <td>Discover the works of the best photographers i...</td>\n",
       "      <td>2023-07-15</td>\n",
       "      <td>11:00:00</td>\n",
       "      <td>Jehangir Art Gallery</td>\n",
       "      <td>Mumbai</td>\n",
       "      <td>Maharashtra</td>\n",
       "      <td>India</td>\n",
       "    </tr>\n",
       "  </tbody>\n",
       "</table>\n",
       "</div>"
      ],
      "text/plain": [
       "   event_id          category                      event_name  \\\n",
       "0         1            Sports                  Football Match   \n",
       "1         2             Music              EDM Music Festival   \n",
       "2         3    Food and Drink         Wine and Cheese Tasting   \n",
       "3         4        Technology  Artificial Intelligence Summit   \n",
       "4         5  Arts and Culture          Photography Exhibition   \n",
       "\n",
       "                                   event_description  event_date event_time  \\\n",
       "0  Watch two of the best football teams in the wo...  2023-06-10   19:00:00   \n",
       "1  Dance to the beats of the biggest EDM artists ...  2023-06-15   15:00:00   \n",
       "2         Sample a variety of fine wines and cheeses  2023-06-25   18:00:00   \n",
       "3  Explore the latest developments in AI and mach...  2023-07-05   10:00:00   \n",
       "4  Discover the works of the best photographers i...  2023-07-15   11:00:00   \n",
       "\n",
       "                      venue       city        state country  \n",
       "0          Wankhede Stadium     Mumbai  Maharashtra   India  \n",
       "1  Bangalore Palace Grounds  Bengaluru    Karnataka   India  \n",
       "2    Taj Mahal Palace Hotel     Mumbai  Maharashtra   India  \n",
       "3                 IIT Delhi  New Delhi        Delhi   India  \n",
       "4      Jehangir Art Gallery     Mumbai  Maharashtra   India  "
      ]
     },
     "execution_count": 71,
     "metadata": {},
     "output_type": "execute_result"
    }
   ],
   "source": [
    "events_df.head()"
   ]
  },
  {
   "cell_type": "code",
   "execution_count": 72,
   "id": "b6aaa5f1",
   "metadata": {},
   "outputs": [],
   "source": [
    "# preprocess the data\n",
    "events_df['event_description'].fillna('', inplace=True)"
   ]
  },
  {
   "cell_type": "code",
   "execution_count": 73,
   "id": "87abab7f",
   "metadata": {},
   "outputs": [],
   "source": [
    "# create a user-event matrix for the original dataset\n",
    "user_event_matrix = user_df.pivot(index='user_id', columns='event_id', values='event_rating').fillna(0)\n",
    "user_event_matrix = sp.csr_matrix(user_event_matrix.values)"
   ]
  },
  {
   "cell_type": "code",
   "execution_count": 74,
   "id": "19a2dc8b",
   "metadata": {},
   "outputs": [],
   "source": [
    "user_event_matrix = user_event_matrix.astype(float)"
   ]
  },
  {
   "cell_type": "code",
   "execution_count": 75,
   "id": "9f3bf7ea",
   "metadata": {},
   "outputs": [],
   "source": [
    "u, s, vt = svds(user_event_matrix, k=20)\n",
    "\n",
    "s_diag_matrix = np.diag(s)\n",
    "predicted_ratings = np.dot(np.dot(u, s_diag_matrix), vt)"
   ]
  },
  {
   "cell_type": "code",
   "execution_count": 76,
   "id": "ff9d2daf",
   "metadata": {},
   "outputs": [],
   "source": [
    "\n",
    "# create a document-term matrix for event descriptions\n",
    "vectorizer = CountVectorizer(stop_words='english')\n",
    "event_descriptions = vectorizer.fit_transform(events_df['event_description'])\n",
    "cosine_similarities = cosine_similarity(event_descriptions)"
   ]
  },
  {
   "cell_type": "code",
   "execution_count": 77,
   "id": "2201ec3a",
   "metadata": {},
   "outputs": [],
   "source": [
    "\n",
    "# define a function to get top n similar events based on content\n",
    "def get_similar_events_content(event_id, n):\n",
    "    event_index = events_df[events_df['event_id'] == event_id].index[0]\n",
    "    similar_indices = cosine_similarities[event_index].argsort()[:-n-1:-1]\n",
    "    similar_events = events_df.iloc[similar_indices]['event_id'].tolist()\n",
    "    return similar_events\n",
    "\n",
    "# define a function to get top n recommended events for a user\n",
    "def get_recommended_events(user_id, n):\n",
    "    user_ratings = predicted_ratings[user_id - 1]\n",
    "    event_indices = np.argsort(user_ratings)[::-1]\n",
    "    recommended_events = []\n",
    "    for event_index in event_indices:\n",
    "        if len(recommended_events) == n:\n",
    "            break\n",
    "        event_id = events_df.iloc[event_index]['event_id']\n",
    "        similar_events = get_similar_events_content(event_id, 5)\n",
    "        for similar_event in similar_events:\n",
    "            if similar_event not in recommended_events:\n",
    "                recommended_events.append(similar_event)\n",
    "            if len(recommended_events) == n:\n",
    "                break\n",
    "    return recommended_events"
   ]
  },
  {
   "cell_type": "code",
   "execution_count": 81,
   "id": "11dcb6cd",
   "metadata": {},
   "outputs": [
    {
     "name": "stdout",
     "output_type": "stream",
     "text": [
      "Recommended events for user 3 using original model: [15, 47, 16, 30, 60]\n"
     ]
    }
   ],
   "source": [
    "\n",
    "# test the original recommendation system\n",
    "user_id = 3\n",
    "n_recommendations = 5\n",
    "recommended_events = get_recommended_events(user_id, n_recommendations)\n",
    "print('Recommended events for user', user_id, 'using original model:', recommended_events)"
   ]
  },
  {
   "cell_type": "code",
   "execution_count": null,
   "id": "63ced4b3",
   "metadata": {},
   "outputs": [],
   "source": []
  }
 ],
 "metadata": {
  "kernelspec": {
   "display_name": "Python 3 (ipykernel)",
   "language": "python",
   "name": "python3"
  },
  "language_info": {
   "codemirror_mode": {
    "name": "ipython",
    "version": 3
   },
   "file_extension": ".py",
   "mimetype": "text/x-python",
   "name": "python",
   "nbconvert_exporter": "python",
   "pygments_lexer": "ipython3",
   "version": "3.8.10"
  }
 },
 "nbformat": 4,
 "nbformat_minor": 5
}
